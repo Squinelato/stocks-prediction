{
 "cells": [
  {
   "cell_type": "code",
   "execution_count": 33,
   "metadata": {},
   "outputs": [],
   "source": [
    "from pandas_profiling import ProfileReport"
   ]
  },
  {
   "cell_type": "code",
   "execution_count": 3,
   "metadata": {},
   "outputs": [
    {
     "data": {
      "text/html": [
       "<div>\n",
       "<style scoped>\n",
       "    .dataframe tbody tr th:only-of-type {\n",
       "        vertical-align: middle;\n",
       "    }\n",
       "\n",
       "    .dataframe tbody tr th {\n",
       "        vertical-align: top;\n",
       "    }\n",
       "\n",
       "    .dataframe thead th {\n",
       "        text-align: right;\n",
       "    }\n",
       "</style>\n",
       "<table border=\"1\" class=\"dataframe\">\n",
       "  <thead>\n",
       "    <tr style=\"text-align: right;\">\n",
       "      <th></th>\n",
       "      <th>TIPREG</th>\n",
       "      <th>DATA DO PREGAO</th>\n",
       "      <th>CODBDI</th>\n",
       "      <th>CODNEG</th>\n",
       "      <th>TPMERC</th>\n",
       "      <th>NOMRES</th>\n",
       "      <th>ESPECI</th>\n",
       "      <th>PRAZOT</th>\n",
       "      <th>MODREF</th>\n",
       "      <th>PREABE</th>\n",
       "      <th>...</th>\n",
       "      <th>TOTNEG</th>\n",
       "      <th>QUATOT</th>\n",
       "      <th>VOLTOT</th>\n",
       "      <th>PREEXE</th>\n",
       "      <th>INDOPC</th>\n",
       "      <th>DATVEN</th>\n",
       "      <th>FATCOT</th>\n",
       "      <th>PTOEXE</th>\n",
       "      <th>CODISI</th>\n",
       "      <th>DISMES</th>\n",
       "    </tr>\n",
       "  </thead>\n",
       "  <tbody>\n",
       "    <tr>\n",
       "      <th>0</th>\n",
       "      <td>1</td>\n",
       "      <td>2019-01-02</td>\n",
       "      <td>2</td>\n",
       "      <td>AALR3</td>\n",
       "      <td>10</td>\n",
       "      <td>ALLIAR</td>\n",
       "      <td>ON      NM</td>\n",
       "      <td>NaN</td>\n",
       "      <td>R$</td>\n",
       "      <td>13.31</td>\n",
       "      <td>...</td>\n",
       "      <td>856</td>\n",
       "      <td>264200</td>\n",
       "      <td>3523962.00</td>\n",
       "      <td>0.0</td>\n",
       "      <td>0</td>\n",
       "      <td>9999-12-31</td>\n",
       "      <td>1</td>\n",
       "      <td>0.0</td>\n",
       "      <td>BRAALRACNOR6</td>\n",
       "      <td>100</td>\n",
       "    </tr>\n",
       "    <tr>\n",
       "      <th>1</th>\n",
       "      <td>1</td>\n",
       "      <td>2019-01-02</td>\n",
       "      <td>96</td>\n",
       "      <td>AALR3F</td>\n",
       "      <td>20</td>\n",
       "      <td>ALLIAR</td>\n",
       "      <td>ON      NM</td>\n",
       "      <td>NaN</td>\n",
       "      <td>R$</td>\n",
       "      <td>13.30</td>\n",
       "      <td>...</td>\n",
       "      <td>21</td>\n",
       "      <td>500</td>\n",
       "      <td>6661.47</td>\n",
       "      <td>0.0</td>\n",
       "      <td>0</td>\n",
       "      <td>9999-12-31</td>\n",
       "      <td>1</td>\n",
       "      <td>0.0</td>\n",
       "      <td>BRAALRACNOR6</td>\n",
       "      <td>100</td>\n",
       "    </tr>\n",
       "    <tr>\n",
       "      <th>2</th>\n",
       "      <td>1</td>\n",
       "      <td>2019-01-02</td>\n",
       "      <td>2</td>\n",
       "      <td>AAPL34</td>\n",
       "      <td>10</td>\n",
       "      <td>APPLE</td>\n",
       "      <td>DRN</td>\n",
       "      <td>NaN</td>\n",
       "      <td>R$</td>\n",
       "      <td>60.71</td>\n",
       "      <td>...</td>\n",
       "      <td>45</td>\n",
       "      <td>16800</td>\n",
       "      <td>1015969.00</td>\n",
       "      <td>0.0</td>\n",
       "      <td>0</td>\n",
       "      <td>9999-12-31</td>\n",
       "      <td>1</td>\n",
       "      <td>0.0</td>\n",
       "      <td>BRAAPLBDR004</td>\n",
       "      <td>127</td>\n",
       "    </tr>\n",
       "    <tr>\n",
       "      <th>3</th>\n",
       "      <td>1</td>\n",
       "      <td>2019-01-02</td>\n",
       "      <td>96</td>\n",
       "      <td>AAPL34F</td>\n",
       "      <td>20</td>\n",
       "      <td>APPLE</td>\n",
       "      <td>DRN</td>\n",
       "      <td>NaN</td>\n",
       "      <td>R$</td>\n",
       "      <td>61.00</td>\n",
       "      <td>...</td>\n",
       "      <td>11</td>\n",
       "      <td>282</td>\n",
       "      <td>17046.51</td>\n",
       "      <td>0.0</td>\n",
       "      <td>0</td>\n",
       "      <td>9999-12-31</td>\n",
       "      <td>1</td>\n",
       "      <td>0.0</td>\n",
       "      <td>BRAAPLBDR004</td>\n",
       "      <td>127</td>\n",
       "    </tr>\n",
       "    <tr>\n",
       "      <th>4</th>\n",
       "      <td>1</td>\n",
       "      <td>2019-01-02</td>\n",
       "      <td>2</td>\n",
       "      <td>ABBV34</td>\n",
       "      <td>10</td>\n",
       "      <td>ABBVIE</td>\n",
       "      <td>DRN</td>\n",
       "      <td>NaN</td>\n",
       "      <td>R$</td>\n",
       "      <td>342.84</td>\n",
       "      <td>...</td>\n",
       "      <td>1</td>\n",
       "      <td>300</td>\n",
       "      <td>102852.00</td>\n",
       "      <td>0.0</td>\n",
       "      <td>0</td>\n",
       "      <td>9999-12-31</td>\n",
       "      <td>1</td>\n",
       "      <td>0.0</td>\n",
       "      <td>BRABBVBDR001</td>\n",
       "      <td>111</td>\n",
       "    </tr>\n",
       "  </tbody>\n",
       "</table>\n",
       "<p>5 rows × 26 columns</p>\n",
       "</div>"
      ],
      "text/plain": [
       "   TIPREG DATA DO PREGAO  CODBDI   CODNEG  TPMERC  NOMRES      ESPECI  PRAZOT  \\\n",
       "0       1     2019-01-02       2    AALR3      10  ALLIAR  ON      NM     NaN   \n",
       "1       1     2019-01-02      96   AALR3F      20  ALLIAR  ON      NM     NaN   \n",
       "2       1     2019-01-02       2   AAPL34      10   APPLE         DRN     NaN   \n",
       "3       1     2019-01-02      96  AAPL34F      20   APPLE         DRN     NaN   \n",
       "4       1     2019-01-02       2   ABBV34      10  ABBVIE         DRN     NaN   \n",
       "\n",
       "  MODREF  PREABE  ...  TOTNEG  QUATOT      VOLTOT  PREEXE  INDOPC      DATVEN  \\\n",
       "0     R$   13.31  ...     856  264200  3523962.00     0.0       0  9999-12-31   \n",
       "1     R$   13.30  ...      21     500     6661.47     0.0       0  9999-12-31   \n",
       "2     R$   60.71  ...      45   16800  1015969.00     0.0       0  9999-12-31   \n",
       "3     R$   61.00  ...      11     282    17046.51     0.0       0  9999-12-31   \n",
       "4     R$  342.84  ...       1     300   102852.00     0.0       0  9999-12-31   \n",
       "\n",
       "   FATCOT  PTOEXE        CODISI  DISMES  \n",
       "0       1     0.0  BRAALRACNOR6     100  \n",
       "1       1     0.0  BRAALRACNOR6     100  \n",
       "2       1     0.0  BRAAPLBDR004     127  \n",
       "3       1     0.0  BRAAPLBDR004     127  \n",
       "4       1     0.0  BRABBVBDR001     111  \n",
       "\n",
       "[5 rows x 26 columns]"
      ]
     },
     "execution_count": 3,
     "metadata": {},
     "output_type": "execute_result"
    }
   ],
   "source": [
    "stocks.head()"
   ]
  },
  {
   "cell_type": "code",
   "execution_count": 6,
   "metadata": {},
   "outputs": [
    {
     "data": {
      "text/plain": [
       "509125"
      ]
     },
     "execution_count": 6,
     "metadata": {},
     "output_type": "execute_result"
    }
   ],
   "source": [
    "(stocks.TPMERC == 10).sum()"
   ]
  },
  {
   "cell_type": "code",
   "execution_count": 7,
   "metadata": {},
   "outputs": [
    {
     "data": {
      "text/plain": [
       "308664"
      ]
     },
     "execution_count": 7,
     "metadata": {},
     "output_type": "execute_result"
    }
   ],
   "source": [
    "(stocks.TPMERC == 20).sum()"
   ]
  },
  {
   "cell_type": "code",
   "execution_count": 11,
   "metadata": {},
   "outputs": [
    {
     "data": {
      "text/plain": [
       "70    0.335303\n",
       "10    0.226734\n",
       "80    0.211586\n",
       "20    0.137460\n",
       "30    0.071008\n",
       "12    0.011109\n",
       "13    0.006691\n",
       "17    0.000110\n",
       "Name: TPMERC, dtype: float64"
      ]
     },
     "execution_count": 11,
     "metadata": {},
     "output_type": "execute_result"
    }
   ],
   "source": [
    "stocks.TPMERC.value_counts(normalize=True)"
   ]
  },
  {
   "cell_type": "code",
   "execution_count": 7,
   "metadata": {},
   "outputs": [],
   "source": [
    "mask = (stocks.TPMERC == 10) | (stocks.TPMERC == 20)"
   ]
  },
  {
   "cell_type": "code",
   "execution_count": 9,
   "metadata": {},
   "outputs": [
    {
     "data": {
      "text/plain": [
       "817789"
      ]
     },
     "execution_count": 9,
     "metadata": {},
     "output_type": "execute_result"
    }
   ],
   "source": [
    "mask.sum()"
   ]
  },
  {
   "cell_type": "code",
   "execution_count": 17,
   "metadata": {},
   "outputs": [],
   "source": [
    "selected_stocks = stocks.loc[mask, ['DATA DO PREGAO', \n",
    "                                    'PREABE', \n",
    "                                    'PREMAX', \n",
    "                                    'PREMIN', \n",
    "                                    'PREULT', \n",
    "                                    'VOLTOT']]"
   ]
  },
  {
   "cell_type": "code",
   "execution_count": 18,
   "metadata": {},
   "outputs": [
    {
     "data": {
      "text/html": [
       "<div>\n",
       "<style scoped>\n",
       "    .dataframe tbody tr th:only-of-type {\n",
       "        vertical-align: middle;\n",
       "    }\n",
       "\n",
       "    .dataframe tbody tr th {\n",
       "        vertical-align: top;\n",
       "    }\n",
       "\n",
       "    .dataframe thead th {\n",
       "        text-align: right;\n",
       "    }\n",
       "</style>\n",
       "<table border=\"1\" class=\"dataframe\">\n",
       "  <thead>\n",
       "    <tr style=\"text-align: right;\">\n",
       "      <th></th>\n",
       "      <th>DATA DO PREGAO</th>\n",
       "      <th>PREABE</th>\n",
       "      <th>PREMAX</th>\n",
       "      <th>PREMIN</th>\n",
       "      <th>PREULT</th>\n",
       "      <th>VOLTOT</th>\n",
       "    </tr>\n",
       "  </thead>\n",
       "  <tbody>\n",
       "    <tr>\n",
       "      <th>0</th>\n",
       "      <td>2019-01-02</td>\n",
       "      <td>13.31</td>\n",
       "      <td>13.50</td>\n",
       "      <td>13.25</td>\n",
       "      <td>13.25</td>\n",
       "      <td>3523962.00</td>\n",
       "    </tr>\n",
       "    <tr>\n",
       "      <th>1</th>\n",
       "      <td>2019-01-02</td>\n",
       "      <td>13.30</td>\n",
       "      <td>13.61</td>\n",
       "      <td>12.98</td>\n",
       "      <td>13.40</td>\n",
       "      <td>6661.47</td>\n",
       "    </tr>\n",
       "    <tr>\n",
       "      <th>2</th>\n",
       "      <td>2019-01-02</td>\n",
       "      <td>60.71</td>\n",
       "      <td>60.71</td>\n",
       "      <td>59.89</td>\n",
       "      <td>60.41</td>\n",
       "      <td>1015969.00</td>\n",
       "    </tr>\n",
       "    <tr>\n",
       "      <th>3</th>\n",
       "      <td>2019-01-02</td>\n",
       "      <td>61.00</td>\n",
       "      <td>61.00</td>\n",
       "      <td>54.93</td>\n",
       "      <td>60.67</td>\n",
       "      <td>17046.51</td>\n",
       "    </tr>\n",
       "    <tr>\n",
       "      <th>4</th>\n",
       "      <td>2019-01-02</td>\n",
       "      <td>342.84</td>\n",
       "      <td>342.84</td>\n",
       "      <td>342.84</td>\n",
       "      <td>342.84</td>\n",
       "      <td>102852.00</td>\n",
       "    </tr>\n",
       "  </tbody>\n",
       "</table>\n",
       "</div>"
      ],
      "text/plain": [
       "  DATA DO PREGAO  PREABE  PREMAX  PREMIN  PREULT      VOLTOT\n",
       "0     2019-01-02   13.31   13.50   13.25   13.25  3523962.00\n",
       "1     2019-01-02   13.30   13.61   12.98   13.40     6661.47\n",
       "2     2019-01-02   60.71   60.71   59.89   60.41  1015969.00\n",
       "3     2019-01-02   61.00   61.00   54.93   60.67    17046.51\n",
       "4     2019-01-02  342.84  342.84  342.84  342.84   102852.00"
      ]
     },
     "execution_count": 18,
     "metadata": {},
     "output_type": "execute_result"
    }
   ],
   "source": [
    "selected_stocks.head()"
   ]
  },
  {
   "cell_type": "code",
   "execution_count": 19,
   "metadata": {},
   "outputs": [],
   "source": [
    "selected_stocks.to_csv('selected_stocks.csv', index=False)"
   ]
  },
  {
   "cell_type": "code",
   "execution_count": 34,
   "metadata": {},
   "outputs": [],
   "source": [
    "profile = ProfileReport(selected_stocks, title=\"B3 Stocks\")"
   ]
  },
  {
   "cell_type": "code",
   "execution_count": 36,
   "metadata": {},
   "outputs": [
    {
     "name": "stderr",
     "output_type": "stream",
     "text": [
      "Export report to file: 100%|██████████| 1/1 [00:00<00:00, 85.91it/s]\n"
     ]
    }
   ],
   "source": [
    "profile.to_file(\"selected_stocks_for_tcc.html\")"
   ]
  },
  {
   "cell_type": "code",
   "execution_count": null,
   "metadata": {},
   "outputs": [],
   "source": []
  }
 ],
 "metadata": {
  "kernelspec": {
   "display_name": "Python 3.7.6 64-bit ('base': conda)",
   "language": "python",
   "name": "python37664bitbasecondaec126aa0c77e42d49e9618db2a0d19bc"
  },
  "language_info": {
   "codemirror_mode": {
    "name": "ipython",
    "version": 3
   },
   "file_extension": ".py",
   "mimetype": "text/x-python",
   "name": "python",
   "nbconvert_exporter": "python",
   "pygments_lexer": "ipython3",
   "version": "3.7.7"
  }
 },
 "nbformat": 4,
 "nbformat_minor": 4
}
